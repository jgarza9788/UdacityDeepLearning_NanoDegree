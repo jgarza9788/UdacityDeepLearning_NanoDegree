{
 "cells": [
  {
   "cell_type": "markdown",
   "metadata": {},
   "source": [
    "# GANs\n",
    "Generative Adversarial Networks\n",
    "\n",
    "## Photo -> Cartoon \n",
    "https://video.udacity-data.com/topher/2018/November/5bea23cd_cartoongan/cartoongan.pdf\n",
    "\n",
    "## other link\n",
    "https://arxiv.org/pdf/1406.2661.pdf\n",
    "\n",
    "## structure\n",
    "https://youtu.be/MF0QCP1OC9I\n",
    "\n",
    "## Games and Equilibria\n",
    "https://youtu.be/2zi8DOWIVas\n",
    "\n",
    "## tips for GANs\n",
    "https://youtu.be/S9WDdySwcHc\n",
    "\n",
    "### Examples\n",
    "https://medium.com/@jonathan_hui/gan-some-cool-applications-of-gans-4c9ecca35900\n",
    "\n",
    "https://youtu.be/7KI4yITZLBk\n",
    "\n",
    "\n",
    "### MNIST GAN\n",
    "https://github.com/udacity/deep-learning-v2-pytorch/tree/master/gan-mnist\n"
   ]
  },
  {
   "cell_type": "code",
   "execution_count": null,
   "metadata": {},
   "outputs": [],
   "source": []
  }
 ],
 "metadata": {
  "language_info": {
   "name": "python"
  },
  "orig_nbformat": 4
 },
 "nbformat": 4,
 "nbformat_minor": 2
}
